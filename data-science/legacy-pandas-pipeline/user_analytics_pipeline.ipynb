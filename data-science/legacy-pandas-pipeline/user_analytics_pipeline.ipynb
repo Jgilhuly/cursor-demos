{
  "cells": [
    {
      "cell_type": "code",
      "execution_count": null,
      "metadata": {
        "vscode": {
          "languageId": "plaintext"
        }
      },
      "outputs": [],
      "source": [
        "# Legacy User Analytics Pipeline\n",
        "\n",
        "This notebook demonstrates a **legacy** approach to analyzing user analytics data using pandas. \n",
        "\n",
        "⚠️ **Warning**: This code contains several performance bottlenecks and inefficient patterns that should be optimized for production use.\n",
        "\n",
        "## Dataset Overview\n",
        "- **User Data**: Basic user information and demographics\n",
        "- **Session Data**: User session information with device and location data\n",
        "- **Event Data**: Individual user events and interactions\n",
        "\n",
        "Let's start by loading and exploring our data...\n"
      ]
    },
    {
      "cell_type": "code",
      "execution_count": null,
      "metadata": {},
      "outputs": [],
      "source": [
        "import pandas as pd\n",
        "import numpy as np\n",
        "from datetime import datetime, timedelta\n",
        "import time\n",
        "\n",
        "print(\"Loading user analytics data...\")\n",
        "start_time = time.time()\n",
        "\n",
        "# Load our datasets\n",
        "users_df = pd.read_csv('user_data.csv')\n",
        "sessions_df = pd.read_csv('user_sessions.csv')\n",
        "events_df = pd.read_csv('user_events.csv')\n",
        "\n",
        "# Convert datetime columns\n",
        "users_df['signup_date'] = pd.to_datetime(users_df['signup_date'])\n",
        "users_df['first_seen'] = pd.to_datetime(users_df['first_seen'])\n",
        "users_df['last_seen'] = pd.to_datetime(users_df['last_seen'])\n",
        "\n",
        "sessions_df['session_start'] = pd.to_datetime(sessions_df['session_start'])\n",
        "events_df['event_time'] = pd.to_datetime(events_df['event_time'])\n",
        "\n",
        "load_time = time.time() - start_time\n",
        "print(f\"Data loaded in {load_time:.2f} seconds\")\n",
        "print(f\"Users: {len(users_df):,}\")\n",
        "print(f\"Sessions: {len(sessions_df):,}\")\n",
        "print(f\"Events: {len(events_df):,}\")\n"
      ]
    },
    {
      "cell_type": "raw",
      "metadata": {
        "vscode": {
          "languageId": "raw"
        }
      },
      "source": [
        "## Anti-Pattern #1: Using iterrows() for Row-by-Row Processing\n",
        "\n",
        "Let's calculate user engagement scores using the inefficient `iterrows()` method instead of vectorized operations.\n"
      ]
    },
    {
      "cell_type": "code",
      "execution_count": null,
      "metadata": {},
      "outputs": [],
      "source": [
        "def calculate_engagement_score_slow(users_df):\n",
        "    \"\"\"\n",
        "    INEFFICIENT: Using iterrows() to calculate engagement scores\n",
        "    This is much slower than vectorized operations\n",
        "    \"\"\"\n",
        "    print(\"Calculating engagement scores (inefficient method)...\")\n",
        "    start_time = time.time()\n",
        "    \n",
        "    engagement_scores = []\n",
        "    \n",
        "    # BAD: Using iterrows() - very slow for large datasets\n",
        "    for index, row in users_df.iterrows():\n",
        "        # Calculate days since signup\n",
        "        days_since_signup = (row['last_seen'] - row['signup_date']).days\n",
        "        \n",
        "        # Calculate engagement score based on sessions and revenue\n",
        "        if days_since_signup > 0:\n",
        "            session_rate = row['total_sessions'] / days_since_signup\n",
        "            revenue_per_session = row['total_revenue'] / row['total_sessions'] if row['total_sessions'] > 0 else 0\n",
        "            engagement_score = (session_rate * 0.6) + (revenue_per_session * 0.4)\n",
        "        else:\n",
        "            engagement_score = 0\n",
        "        \n",
        "        engagement_scores.append(engagement_score)\n",
        "    \n",
        "    users_df['engagement_score'] = engagement_scores\n",
        "    \n",
        "    elapsed_time = time.time() - start_time\n",
        "    print(f\"Engagement scores calculated in {elapsed_time:.2f} seconds\")\n",
        "    return users_df\n",
        "\n",
        "# Apply the slow function\n",
        "users_df = calculate_engagement_score_slow(users_df)\n",
        "print(f\"Average engagement score: {users_df['engagement_score'].mean():.4f}\")\n"
      ]
    },
    {
      "cell_type": "raw",
      "metadata": {
        "vscode": {
          "languageId": "raw"
        }
      },
      "source": [
        "## Anti-Pattern #2: Inefficient String Operations with apply()\n",
        "\n",
        "Let's categorize email domains using inefficient string operations and unnecessary apply() calls.\n"
      ]
    },
    {
      "cell_type": "code",
      "execution_count": null,
      "metadata": {},
      "outputs": [],
      "source": [
        "def categorize_email_domain_slow(email_domain):\n",
        "    \"\"\"\n",
        "    INEFFICIENT: Using multiple string operations in apply()\n",
        "    This should be replaced with vectorized string operations\n",
        "    \"\"\"\n",
        "    # BAD: Inefficient string operations inside apply()\n",
        "    email_domain = str(email_domain).lower().strip()\n",
        "    \n",
        "    # Multiple if-else statements that could be optimized\n",
        "    if email_domain.find('gmail') != -1:\n",
        "        return 'Personal'\n",
        "    elif email_domain.find('yahoo') != -1:\n",
        "        return 'Personal'\n",
        "    elif email_domain.find('hotmail') != -1:\n",
        "        return 'Personal'\n",
        "    elif email_domain.find('outlook') != -1:\n",
        "        return 'Personal'\n",
        "    elif email_domain.find('company') != -1:\n",
        "        return 'Corporate'\n",
        "    else:\n",
        "        return 'Other'\n",
        "\n",
        "print(\"Categorizing email domains (inefficient method)...\")\n",
        "start_time = time.time()\n",
        "\n",
        "# BAD: Using apply() with complex lambda when vectorized operations would be faster\n",
        "users_df['email_category'] = users_df['email_domain'].apply(\n",
        "    lambda x: categorize_email_domain_slow(x)\n",
        ")\n",
        "\n",
        "# More inefficient string operations\n",
        "users_df['email_provider'] = users_df['email_domain'].apply(\n",
        "    lambda x: str(x).split('.')[0].upper() if '.' in str(x) else 'UNKNOWN'\n",
        ")\n",
        "\n",
        "elapsed_time = time.time() - start_time\n",
        "print(f\"Email categorization completed in {elapsed_time:.2f} seconds\")\n",
        "\n",
        "# Show the results\n",
        "print(\"\\nEmail category distribution:\")\n",
        "print(users_df['email_category'].value_counts())\n"
      ]
    },
    {
      "cell_type": "raw",
      "metadata": {
        "vscode": {
          "languageId": "raw"
        }
      },
      "source": [
        "## Anti-Pattern #3: Nested Loops for Aggregations\n",
        "\n",
        "Let's calculate user behavior patterns using nested loops instead of efficient groupby operations.\n"
      ]
    },
    {
      "cell_type": "code",
      "execution_count": null,
      "metadata": {},
      "outputs": [],
      "source": [
        "def calculate_user_metrics_slow(users_df, sessions_df, events_df):\n",
        "    \"\"\"\n",
        "    INEFFICIENT: Using nested loops for aggregations\n",
        "    This should be replaced with groupby operations\n",
        "    \"\"\"\n",
        "    print(\"Calculating user metrics (inefficient nested loops)...\")\n",
        "    start_time = time.time()\n",
        "    \n",
        "    user_metrics = []\n",
        "    \n",
        "    # BAD: Nested loops for aggregations - very slow!\n",
        "    for user_id in users_df['user_id'].unique():\n",
        "        user_sessions = []\n",
        "        user_events = []\n",
        "        \n",
        "        # Inner loop 1: Find all sessions for this user\n",
        "        for _, session in sessions_df.iterrows():\n",
        "            if session['user_id'] == user_id:\n",
        "                user_sessions.append(session)\n",
        "        \n",
        "        # Inner loop 2: Find all events for this user\n",
        "        for _, event in events_df.iterrows():\n",
        "            if event['user_id'] == user_id:\n",
        "                user_events.append(event)\n",
        "        \n",
        "        # Calculate metrics manually instead of using built-in functions\n",
        "        total_session_duration = 0\n",
        "        for session in user_sessions:\n",
        "            total_session_duration += session['session_duration']\n",
        "        \n",
        "        avg_session_duration = total_session_duration / len(user_sessions) if user_sessions else 0\n",
        "        \n",
        "        # Count events by type manually\n",
        "        event_counts = {}\n",
        "        for event in user_events:\n",
        "            event_type = event['event_type']\n",
        "            if event_type not in event_counts:\n",
        "                event_counts[event_type] = 0\n",
        "            event_counts[event_type] += 1\n",
        "        \n",
        "        # Calculate conversion rate manually\n",
        "        purchases = event_counts.get('purchase', 0)\n",
        "        total_events = len(user_events)\n",
        "        conversion_rate = purchases / total_events if total_events > 0 else 0\n",
        "        \n",
        "        user_metrics.append({\n",
        "            'user_id': user_id,\n",
        "            'avg_session_duration': avg_session_duration,\n",
        "            'total_events': total_events,\n",
        "            'purchases': purchases,\n",
        "            'conversion_rate': conversion_rate\n",
        "        })\n",
        "    \n",
        "    elapsed_time = time.time() - start_time\n",
        "    print(f\"User metrics calculated in {elapsed_time:.2f} seconds\")\n",
        "    \n",
        "    return pd.DataFrame(user_metrics)\n",
        "\n",
        "# Apply the slow function\n",
        "user_metrics_df = calculate_user_metrics_slow(users_df, sessions_df, events_df)\n",
        "print(f\"Calculated metrics for {len(user_metrics_df)} users\")\n",
        "print(f\"Average conversion rate: {user_metrics_df['conversion_rate'].mean():.4f}\")\n"
      ]
    },
    {
      "cell_type": "raw",
      "metadata": {
        "vscode": {
          "languageId": "raw"
        }
      },
      "source": [
        "## Anti-Pattern #4: Memory-Inefficient Operations\n",
        "\n",
        "Let's create multiple unnecessary intermediate DataFrames and perform inefficient merges.\n"
      ]
    },
    {
      "cell_type": "code",
      "execution_count": null,
      "metadata": {},
      "outputs": [],
      "source": [
        "def create_user_summary_slow(users_df, sessions_df, events_df):\n",
        "    \"\"\"\n",
        "    INEFFICIENT: Creating multiple unnecessary intermediate DataFrames\n",
        "    and performing inefficient merges\n",
        "    \"\"\"\n",
        "    print(\"Creating user summary (memory-inefficient method)...\")\n",
        "    start_time = time.time()\n",
        "    \n",
        "    # BAD: Creating many intermediate DataFrames instead of chaining operations\n",
        "    temp_df1 = users_df.copy()\n",
        "    temp_df2 = temp_df1.copy()\n",
        "    temp_df3 = temp_df2.copy()\n",
        "    \n",
        "    # BAD: Multiple separate operations instead of efficient chaining\n",
        "    sessions_by_user = sessions_df.groupby('user_id').agg({\n",
        "        'session_duration': ['mean', 'sum', 'count'],\n",
        "        'pages_visited': ['mean', 'sum'],\n",
        "        'revenue': ['sum', 'mean']\n",
        "    }).reset_index()\n",
        "    \n",
        "    # BAD: Flattening column names inefficiently\n",
        "    sessions_by_user.columns = ['user_id', 'avg_session_duration', 'total_session_duration', \n",
        "                               'session_count', 'avg_pages_visited', 'total_pages_visited',\n",
        "                               'total_revenue', 'avg_revenue_per_session']\n",
        "    \n",
        "    # BAD: Creating another intermediate DataFrame\n",
        "    events_by_user = events_df.groupby('user_id').agg({\n",
        "        'event_id': 'count',\n",
        "        'value': ['sum', 'mean']\n",
        "    }).reset_index()\n",
        "    \n",
        "    events_by_user.columns = ['user_id', 'total_events', 'total_event_value', 'avg_event_value']\n",
        "    \n",
        "    # BAD: Inefficient merges - creating copies each time\n",
        "    result_df = temp_df3.copy()\n",
        "    result_df = result_df.merge(sessions_by_user, on='user_id', how='left')\n",
        "    result_df = result_df.merge(events_by_user, on='user_id', how='left')\n",
        "    \n",
        "    # BAD: Filling NaN values inefficiently\n",
        "    numeric_columns = ['avg_session_duration', 'total_session_duration', 'session_count',\n",
        "                      'avg_pages_visited', 'total_pages_visited', 'total_revenue',\n",
        "                      'avg_revenue_per_session', 'total_events', 'total_event_value',\n",
        "                      'avg_event_value']\n",
        "    \n",
        "    for col in numeric_columns:\n",
        "        result_df[col] = result_df[col].fillna(0)\n",
        "    \n",
        "    # BAD: More unnecessary intermediate DataFrames\n",
        "    final_df = result_df.copy()\n",
        "    \n",
        "    # BAD: Inefficient categorical operations\n",
        "    final_df['user_tier'] = final_df['total_revenue'].apply(\n",
        "        lambda x: 'Premium' if x > 100 else 'Standard' if x > 50 else 'Basic'\n",
        "    )\n",
        "    \n",
        "    elapsed_time = time.time() - start_time\n",
        "    print(f\"User summary created in {elapsed_time:.2f} seconds\")\n",
        "    \n",
        "    return final_df\n",
        "\n",
        "# Apply the memory-inefficient function\n",
        "user_summary_df = create_user_summary_slow(users_df, sessions_df, events_df)\n",
        "print(f\"Created summary for {len(user_summary_df)} users\")\n",
        "print(f\"Memory usage: {user_summary_df.memory_usage(deep=True).sum() / 1024**2:.2f} MB\")\n",
        "\n",
        "# Show user tier distribution\n",
        "print(\"\\nUser tier distribution:\")\n",
        "print(user_summary_df['user_tier'].value_counts())\n"
      ]
    },
    {
      "cell_type": "raw",
      "metadata": {
        "vscode": {
          "languageId": "raw"
        }
      },
      "source": [
        "## Final Results and Summary\n",
        "\n",
        "Let's display a sample of our final results and summarize the performance issues in this pipeline.\n"
      ]
    },
    {
      "cell_type": "code",
      "execution_count": null,
      "metadata": {},
      "outputs": [],
      "source": [
        "# Display sample results\n",
        "print(\"Sample of final user summary:\")\n",
        "print(user_summary_df[['user_id', 'email_category', 'engagement_score', 'user_tier', \n",
        "                      'total_revenue', 'session_count', 'total_events']].head(10))\n",
        "\n",
        "print(\"\\n\" + \"=\"*60)\n",
        "print(\"PERFORMANCE ISSUES IDENTIFIED:\")\n",
        "print(\"=\"*60)\n",
        "print(\"1. ❌ Using iterrows() instead of vectorized operations\")\n",
        "print(\"   - Slows down engagement score calculation significantly\")\n",
        "print(\"   - Should use pandas vectorized operations instead\")\n",
        "\n",
        "print(\"\\n2. ❌ Inefficient string operations with apply()\")\n",
        "print(\"   - Email categorization uses apply() with complex logic\")\n",
        "print(\"   - Should use pandas .str methods and .map() instead\")\n",
        "\n",
        "print(\"\\n3. ❌ Nested loops for aggregations\")\n",
        "print(\"   - User metrics calculation uses nested loops\")\n",
        "print(\"   - Should use groupby() operations instead\")\n",
        "\n",
        "print(\"\\n4. ❌ Memory-inefficient operations\")\n",
        "print(\"   - Creating multiple unnecessary intermediate DataFrames\")\n",
        "print(\"   - Should chain operations and avoid copying data\")\n",
        "\n",
        "print(\"\\n5. ❌ Inefficient categorical operations\")\n",
        "print(\"   - Using apply() with lambda for simple conditions\")\n",
        "print(\"   - Should use pandas cut() or numpy.select() instead\")\n",
        "\n",
        "print(\"\\n💡 These patterns can be optimized using modern pandas techniques!\")\n",
        "print(\"💡 Expected performance improvement: 5-10x faster execution\")\n",
        "print(\"💡 Expected memory reduction: 50-70% less memory usage\")\n"
      ]
    },
    {
      "cell_type": "code",
      "execution_count": null,
      "metadata": {},
      "outputs": [],
      "source": []
    }
  ],
  "metadata": {
    "language_info": {
      "name": "python"
    }
  },
  "nbformat": 4,
  "nbformat_minor": 2
}
