{
  "cells": [
    {
      "cell_type": "markdown",
      "metadata": {
        "vscode": {
          "languageId": "raw"
        }
      },
      "source": [
        "# MovieDB Database Exploration\n",
        "\n",
        "⚠️ This notebook was generated during a live demo. It is not a complete analysis and may contain errors.\n",
        "\n",
        "This notebook explores the PostgreSQL moviedb database with comprehensive analysis of:\n",
        "- Database schema and relationships\n",
        "- Movies, users, and ratings data\n",
        "- Data quality assessment\n",
        "- Business insights and patterns\n",
        "- Advanced analytics and visualizations\n"
      ]
    },
    {
      "cell_type": "code",
      "execution_count": null,
      "metadata": {},
      "outputs": [],
      "source": [
        "# Import required libraries\n",
        "import pandas as pd\n",
        "import numpy as np\n",
        "import matplotlib.pyplot as plt\n",
        "import seaborn as sns\n",
        "import psycopg2\n",
        "from sqlalchemy import create_engine, text\n",
        "import warnings\n",
        "warnings.filterwarnings('ignore')\n",
        "\n",
        "# Set plotting style\n",
        "plt.style.use('default')\n",
        "sns.set_palette(\"husl\")\n",
        "%matplotlib inline\n"
      ]
    },
    {
      "cell_type": "code",
      "execution_count": null,
      "metadata": {},
      "outputs": [],
      "source": [
        "# Database connection parameters\n",
        "# Try different connection options based on environment\n",
        "import os\n",
        "\n",
        "# Option 1: Docker compose setup (external)\n",
        "DB_CONFIGS = [\n",
        "    {\n",
        "        'name': 'Docker Compose (localhost:5433)',\n",
        "        'host': 'localhost',\n",
        "        'port': '5433',\n",
        "        'database': 'moviedb',\n",
        "        'user': 'demo',\n",
        "        'password': 'demo123'\n",
        "    },\n",
        "    {\n",
        "        'name': 'Docker Compose (postgres service)',\n",
        "        'host': 'postgres',\n",
        "        'port': '5432',\n",
        "        'database': 'moviedb',\n",
        "        'user': 'demo',\n",
        "        'password': 'demo123'\n",
        "    },\n",
        "    {\n",
        "        'name': 'Environment variables',\n",
        "        'host': os.getenv('POSTGRES_HOST', 'localhost'),\n",
        "        'port': os.getenv('POSTGRES_PORT', '5433'),\n",
        "        'database': os.getenv('POSTGRES_DB', 'moviedb'),\n",
        "        'user': os.getenv('POSTGRES_USER', 'demo'),\n",
        "        'password': os.getenv('POSTGRES_PASSWORD', 'demo123')\n",
        "    }\n",
        "]\n",
        "\n",
        "def test_connection(config):\n",
        "    try:\n",
        "        engine = create_engine(f\"postgresql://{config['user']}:{config['password']}@{config['host']}:{config['port']}/{config['database']}\")\n",
        "        # Test connection\n",
        "        with engine.connect() as conn:\n",
        "            result = conn.execute(text(\"SELECT 1\"))\n",
        "            return engine, True\n",
        "    except Exception as e:\n",
        "        return None, str(e)\n",
        "\n",
        "# Try each configuration\n",
        "engine = None\n",
        "for config in DB_CONFIGS:\n",
        "    print(f\"Trying connection: {config['name']}\")\n",
        "    test_engine, result = test_connection(config)\n",
        "    if test_engine:\n",
        "        engine = test_engine\n",
        "        print(f\"✅ Connection successful with: {config['name']}\")\n",
        "        break\n",
        "    else:\n",
        "        print(f\"❌ Failed: {result}\")\n",
        "\n",
        "if engine is None:\n",
        "    print(\"\\n⚠️  TROUBLESHOOTING STEPS:\")\n",
        "    print(\"1. Start the database using: docker-compose -f docker-compose.dev.yml up -d\")\n",
        "    print(\"2. Wait 10-15 seconds for PostgreSQL to fully start\")\n",
        "    print(\"3. Check if containers are running: docker-compose -f docker-compose.dev.yml ps\")\n",
        "    print(\"4. If still failing, check Docker logs: docker-compose -f docker-compose.dev.yml logs postgres\")\n",
        "    print(\"\\n📝 Note: This notebook requires a running PostgreSQL database to function properly.\")\n",
        "    raise ConnectionError(\"Could not establish database connection. Please start the database first.\")\n",
        "else:\n",
        "    print(\"\\n🎉 Database connection established and ready for analysis!\")\n"
      ]
    },
    {
      "cell_type": "markdown",
      "metadata": {
        "vscode": {
          "languageId": "raw"
        }
      },
      "source": [
        "## 1. Database Schema Exploration\n"
      ]
    },
    {
      "cell_type": "code",
      "execution_count": null,
      "metadata": {},
      "outputs": [],
      "source": [
        "# Get all table names\n",
        "tables_query = \"\"\"\n",
        "SELECT table_name \n",
        "FROM information_schema.tables \n",
        "WHERE table_schema = 'public'\n",
        "\"\"\"\n",
        "\n",
        "tables = pd.read_sql(tables_query, engine)\n",
        "print(\"Tables in the database:\")\n",
        "print(tables)\n"
      ]
    },
    {
      "cell_type": "code",
      "execution_count": null,
      "metadata": {},
      "outputs": [],
      "source": [
        "# Get detailed schema information for each table\n",
        "schema_query = \"\"\"\n",
        "SELECT \n",
        "    table_name,\n",
        "    column_name,\n",
        "    data_type,\n",
        "    is_nullable,\n",
        "    column_default\n",
        "FROM information_schema.columns \n",
        "WHERE table_schema = 'public'\n",
        "ORDER BY table_name, ordinal_position\n",
        "\"\"\"\n",
        "\n",
        "schema_info = pd.read_sql(schema_query, engine)\n",
        "print(\"Database Schema:\")\n",
        "print(schema_info)\n"
      ]
    },
    {
      "cell_type": "code",
      "execution_count": null,
      "metadata": {},
      "outputs": [],
      "source": [
        "# Get table row counts\n",
        "row_counts = {}\n",
        "for table in ['movies', 'users', 'ratings']:\n",
        "    count_query = f\"SELECT COUNT(*) as count FROM {table}\"\n",
        "    result = pd.read_sql(count_query, engine)\n",
        "    row_counts[table] = result.iloc[0]['count']\n",
        "\n",
        "print(\"Table Row Counts:\")\n",
        "for table, count in row_counts.items():\n",
        "    print(f\"{table}: {count} rows\")\n"
      ]
    },
    {
      "cell_type": "markdown",
      "metadata": {
        "vscode": {
          "languageId": "raw"
        }
      },
      "source": [
        "## 2. Movies Table Analysis\n"
      ]
    },
    {
      "cell_type": "code",
      "execution_count": null,
      "metadata": {},
      "outputs": [],
      "source": [
        "# Load movies data\n",
        "movies_df = pd.read_sql(\"SELECT * FROM movies\", engine)\n",
        "print(\"Movies Dataset:\")\n",
        "print(f\"Shape: {movies_df.shape}\")\n",
        "print(\"\\nFirst 5 rows:\")\n",
        "movies_df.head()\n"
      ]
    },
    {
      "cell_type": "code",
      "execution_count": null,
      "metadata": {},
      "outputs": [],
      "source": [
        "# Movies data summary\n",
        "print(\"Movies Data Summary:\")\n",
        "print(movies_df.describe())\n",
        "print(\"\\nData Types:\")\n",
        "print(movies_df.dtypes)\n",
        "print(\"\\nMissing Values:\")\n",
        "print(movies_df.isnull().sum())\n"
      ]
    },
    {
      "cell_type": "code",
      "execution_count": null,
      "metadata": {},
      "outputs": [],
      "source": [
        "# Movie genre distribution\n",
        "plt.figure(figsize=(12, 6))\n",
        "\n",
        "plt.subplot(1, 2, 1)\n",
        "genre_counts = movies_df['genre_primary'].value_counts()\n",
        "plt.pie(genre_counts.values, labels=genre_counts.index, autopct='%1.1f%%', startangle=90)\n",
        "plt.title('Movie Genre Distribution')\n",
        "\n",
        "plt.subplot(1, 2, 2)\n",
        "sns.countplot(data=movies_df, y='genre_primary', order=genre_counts.index)\n",
        "plt.title('Movies by Genre')\n",
        "plt.xlabel('Count')\n",
        "\n",
        "plt.tight_layout()\n",
        "plt.show()\n",
        "\n",
        "print(\"Genre Distribution:\")\n",
        "print(genre_counts)\n"
      ]
    },
    {
      "cell_type": "code",
      "execution_count": null,
      "metadata": {},
      "outputs": [],
      "source": [
        "# Movie performance analysis\n",
        "fig, axes = plt.subplots(2, 2, figsize=(15, 12))\n",
        "\n",
        "# Budget vs Revenue\n",
        "axes[0, 0].scatter(movies_df['budget_millions'], movies_df['revenue_millions'], alpha=0.7)\n",
        "axes[0, 0].set_xlabel('Budget (Millions)')\n",
        "axes[0, 0].set_ylabel('Revenue (Millions)')\n",
        "axes[0, 0].set_title('Budget vs Revenue')\n",
        "# Add diagonal line for break-even\n",
        "max_val = max(movies_df['budget_millions'].max(), movies_df['revenue_millions'].max())\n",
        "axes[0, 0].plot([0, max_val], [0, max_val], 'r--', alpha=0.5, label='Break-even line')\n",
        "axes[0, 0].legend()\n",
        "\n",
        "# Rating distribution\n",
        "axes[0, 1].hist(movies_df['rating'], bins=10, alpha=0.7, edgecolor='black')\n",
        "axes[0, 1].set_xlabel('Rating')\n",
        "axes[0, 1].set_ylabel('Frequency')\n",
        "axes[0, 1].set_title('Movie Rating Distribution')\n",
        "\n",
        "# Year vs Rating\n",
        "axes[1, 0].scatter(movies_df['year'], movies_df['rating'], alpha=0.7)\n",
        "axes[1, 0].set_xlabel('Year')\n",
        "axes[1, 0].set_ylabel('Rating')\n",
        "axes[1, 0].set_title('Movie Year vs Rating')\n",
        "\n",
        "# Duration distribution\n",
        "axes[1, 1].hist(movies_df['duration_minutes'], bins=8, alpha=0.7, edgecolor='black')\n",
        "axes[1, 1].set_xlabel('Duration (Minutes)')\n",
        "axes[1, 1].set_ylabel('Frequency')\n",
        "axes[1, 1].set_title('Movie Duration Distribution')\n",
        "\n",
        "plt.tight_layout()\n",
        "plt.show()\n"
      ]
    },
    {
      "cell_type": "code",
      "execution_count": null,
      "metadata": {},
      "outputs": [],
      "source": [
        "# Calculate ROI and profitability metrics\n",
        "movies_df['roi'] = (movies_df['revenue_millions'] - movies_df['budget_millions']) / movies_df['budget_millions'] * 100\n",
        "movies_df['profit_millions'] = movies_df['revenue_millions'] - movies_df['budget_millions']\n",
        "movies_df['profitable'] = movies_df['profit_millions'] > 0\n",
        "\n",
        "print(\"Movie Performance Metrics:\")\n",
        "print(f\"Average ROI: {movies_df['roi'].mean():.1f}%\")\n",
        "print(f\"Profitable movies: {movies_df['profitable'].sum()}/{len(movies_df)} ({movies_df['profitable'].mean()*100:.1f}%)\")\n",
        "print(f\"Total profit across all movies: ${movies_df['profit_millions'].sum():.1f}M\")\n",
        "\n",
        "print(\"\\nTop 5 movies by ROI:\")\n",
        "top_roi = movies_df.nlargest(5, 'roi')[['title', 'year', 'budget_millions', 'revenue_millions', 'roi']]\n",
        "print(top_roi)\n",
        "\n",
        "print(\"\\nTop 5 movies by profit:\")\n",
        "top_profit = movies_df.nlargest(5, 'profit_millions')[['title', 'year', 'budget_millions', 'revenue_millions', 'profit_millions']]\n",
        "print(top_profit)\n"
      ]
    },
    {
      "cell_type": "markdown",
      "metadata": {
        "vscode": {
          "languageId": "raw"
        }
      },
      "source": [
        "## 3. Users Table Analysis\n"
      ]
    },
    {
      "cell_type": "code",
      "execution_count": null,
      "metadata": {},
      "outputs": [],
      "source": [
        "# Load users data\n",
        "users_df = pd.read_sql(\"SELECT * FROM users\", engine)\n",
        "print(\"Users Dataset:\")\n",
        "print(f\"Shape: {users_df.shape}\")\n",
        "print(\"\\nFirst 5 rows:\")\n",
        "users_df.head()\n"
      ]
    },
    {
      "cell_type": "code",
      "execution_count": null,
      "metadata": {},
      "outputs": [],
      "source": [
        "# Users data analysis\n",
        "print(\"Users Data Summary:\")\n",
        "print(users_df.describe())\n",
        "print(\"\\nMissing Values:\")\n",
        "print(users_df.isnull().sum())\n"
      ]
    },
    {
      "cell_type": "code",
      "execution_count": null,
      "metadata": {},
      "outputs": [],
      "source": [
        "# User demographics analysis\n",
        "fig, axes = plt.subplots(2, 2, figsize=(15, 10))\n",
        "\n",
        "# Age distribution\n",
        "axes[0, 0].hist(users_df['age'], bins=8, alpha=0.7, edgecolor='black')\n",
        "axes[0, 0].set_xlabel('Age')\n",
        "axes[0, 0].set_ylabel('Frequency')\n",
        "axes[0, 0].set_title('User Age Distribution')\n",
        "\n",
        "# Country distribution\n",
        "country_counts = users_df['country'].value_counts()\n",
        "axes[0, 1].pie(country_counts.values, labels=country_counts.index, autopct='%1.1f%%', startangle=90)\n",
        "axes[0, 1].set_title('Users by Country')\n",
        "\n",
        "# Subscription type distribution\n",
        "sub_counts = users_df['subscription_type'].value_counts()\n",
        "axes[1, 0].bar(sub_counts.index, sub_counts.values, alpha=0.7)\n",
        "axes[1, 0].set_xlabel('Subscription Type')\n",
        "axes[1, 0].set_ylabel('Count')\n",
        "axes[1, 0].set_title('Subscription Type Distribution')\n",
        "\n",
        "# Convert joined_date to datetime for analysis\n",
        "users_df['joined_date'] = pd.to_datetime(users_df['joined_date'])\n",
        "users_df['joined_month'] = users_df['joined_date'].dt.strftime('%Y-%m')\n",
        "monthly_joins = users_df['joined_month'].value_counts().sort_index()\n",
        "axes[1, 1].plot(monthly_joins.index, monthly_joins.values, marker='o')\n",
        "axes[1, 1].set_xlabel('Month')\n",
        "axes[1, 1].set_ylabel('New Users')\n",
        "axes[1, 1].set_title('User Signups Over Time')\n",
        "axes[1, 1].tick_params(axis='x', rotation=45)\n",
        "\n",
        "plt.tight_layout()\n",
        "plt.show()\n",
        "\n",
        "print(\"User Demographics Summary:\")\n",
        "print(f\"Average age: {users_df['age'].mean():.1f} years\")\n",
        "print(f\"Age range: {users_df['age'].min()} - {users_df['age'].max()} years\")\n",
        "print(f\"Premium users: {(users_df['subscription_type'] == 'premium').sum()}/{len(users_df)} ({(users_df['subscription_type'] == 'premium').mean()*100:.1f}%)\")\n"
      ]
    },
    {
      "cell_type": "markdown",
      "metadata": {
        "vscode": {
          "languageId": "raw"
        }
      },
      "source": [
        "## 4. Ratings Table Analysis\n"
      ]
    },
    {
      "cell_type": "code",
      "execution_count": null,
      "metadata": {},
      "outputs": [],
      "source": [
        "# Load ratings data\n",
        "ratings_df = pd.read_sql(\"SELECT * FROM ratings\", engine)\n",
        "print(\"Ratings Dataset:\")\n",
        "print(f\"Shape: {ratings_df.shape}\")\n",
        "print(\"\\nFirst 5 rows:\")\n",
        "ratings_df.head()\n"
      ]
    },
    {
      "cell_type": "code",
      "execution_count": null,
      "metadata": {},
      "outputs": [],
      "source": [
        "# Ratings analysis\n",
        "print(\"Ratings Data Summary:\")\n",
        "print(ratings_df.describe())\n",
        "print(\"\\nMissing Values:\")\n",
        "print(ratings_df.isnull().sum())\n",
        "print(\"\\nUnique users who rated:\", ratings_df['user_id'].nunique())\n",
        "print(\"Unique movies rated:\", ratings_df['movie_id'].nunique())\n"
      ]
    },
    {
      "cell_type": "code",
      "execution_count": null,
      "metadata": {},
      "outputs": [],
      "source": [
        "# Rating distribution analysis\n",
        "fig, axes = plt.subplots(1, 3, figsize=(18, 5))\n",
        "\n",
        "# Rating distribution\n",
        "rating_counts = ratings_df['rating'].value_counts().sort_index()\n",
        "axes[0].bar(rating_counts.index, rating_counts.values, alpha=0.7)\n",
        "axes[0].set_xlabel('Rating')\n",
        "axes[0].set_ylabel('Frequency')\n",
        "axes[0].set_title('User Rating Distribution')\n",
        "axes[0].set_xticks(range(1, 11))\n",
        "\n",
        "# Ratings per user\n",
        "ratings_per_user = ratings_df['user_id'].value_counts()\n",
        "axes[1].hist(ratings_per_user.values, bins=5, alpha=0.7, edgecolor='black')\n",
        "axes[1].set_xlabel('Number of Ratings')\n",
        "axes[1].set_ylabel('Number of Users')\n",
        "axes[1].set_title('Ratings per User Distribution')\n",
        "\n",
        "# Ratings per movie\n",
        "ratings_per_movie = ratings_df['movie_id'].value_counts()\n",
        "axes[2].hist(ratings_per_movie.values, bins=5, alpha=0.7, edgecolor='black')\n",
        "axes[2].set_xlabel('Number of Ratings')\n",
        "axes[2].set_ylabel('Number of Movies')\n",
        "axes[2].set_title('Ratings per Movie Distribution')\n",
        "\n",
        "plt.tight_layout()\n",
        "plt.show()\n",
        "\n",
        "print(\"Rating Statistics:\")\n",
        "print(f\"Average rating: {ratings_df['rating'].mean():.2f}\")\n",
        "print(f\"Most common rating: {ratings_df['rating'].mode()[0]}\")\n",
        "print(f\"Average ratings per user: {ratings_per_user.mean():.1f}\")\n",
        "print(f\"Average ratings per movie: {ratings_per_movie.mean():.1f}\")\n"
      ]
    },
    {
      "cell_type": "markdown",
      "metadata": {
        "vscode": {
          "languageId": "raw"
        }
      },
      "source": [
        "## 5. Cross-Table Analysis & Joins\n"
      ]
    },
    {
      "cell_type": "code",
      "execution_count": null,
      "metadata": {},
      "outputs": [],
      "source": [
        "# Comprehensive join query\n",
        "join_query = \"\"\"\n",
        "SELECT \n",
        "    m.title,\n",
        "    m.year,\n",
        "    m.genre_primary,\n",
        "    m.rating as imdb_rating,\n",
        "    m.budget_millions,\n",
        "    m.revenue_millions,\n",
        "    m.director,\n",
        "    u.name as user_name,\n",
        "    u.age,\n",
        "    u.country,\n",
        "    u.subscription_type,\n",
        "    r.rating as user_rating,\n",
        "    r.review_text,\n",
        "    r.timestamp\n",
        "FROM ratings r\n",
        "JOIN movies m ON r.movie_id = m.id\n",
        "JOIN users u ON r.user_id = u.id\n",
        "ORDER BY r.timestamp\n",
        "\"\"\"\n",
        "\n",
        "full_data = pd.read_sql(join_query, engine)\n",
        "print(\"Complete dataset with joins:\")\n",
        "print(f\"Shape: {full_data.shape}\")\n",
        "full_data.head()\n"
      ]
    },
    {
      "cell_type": "code",
      "execution_count": null,
      "metadata": {},
      "outputs": [],
      "source": [
        "# Compare IMDB ratings vs User ratings\n",
        "plt.figure(figsize=(12, 5))\n",
        "\n",
        "plt.subplot(1, 2, 1)\n",
        "plt.scatter(full_data['imdb_rating'], full_data['user_rating'], alpha=0.7)\n",
        "plt.xlabel('IMDB Rating')\n",
        "plt.ylabel('User Rating')\n",
        "plt.title('IMDB vs User Ratings')\n",
        "# Add diagonal line\n",
        "plt.plot([6, 10], [6, 10], 'r--', alpha=0.5, label='Perfect agreement')\n",
        "plt.legend()\n",
        "\n",
        "plt.subplot(1, 2, 2)\n",
        "full_data['rating_diff'] = full_data['user_rating'] - full_data['imdb_rating']\n",
        "plt.hist(full_data['rating_diff'], bins=10, alpha=0.7, edgecolor='black')\n",
        "plt.xlabel('Rating Difference (User - IMDB)')\n",
        "plt.ylabel('Frequency')\n",
        "plt.title('Rating Difference Distribution')\n",
        "plt.axvline(0, color='red', linestyle='--', alpha=0.5, label='No difference')\n",
        "plt.legend()\n",
        "\n",
        "plt.tight_layout()\n",
        "plt.show()\n",
        "\n",
        "print(f\"Correlation between IMDB and User ratings: {full_data['imdb_rating'].corr(full_data['user_rating']):.3f}\")\n",
        "print(f\"Average rating difference (User - IMDB): {full_data['rating_diff'].mean():.2f}\")\n"
      ]
    },
    {
      "cell_type": "code",
      "execution_count": null,
      "metadata": {},
      "outputs": [],
      "source": [
        "# User behavior analysis by demographics\n",
        "fig, axes = plt.subplots(2, 2, figsize=(15, 10))\n",
        "\n",
        "# Average rating by age group\n",
        "full_data['age_group'] = pd.cut(full_data['age'], bins=[0, 25, 30, 35, 100], labels=['<25', '25-30', '30-35', '35+'])\n",
        "age_ratings = full_data.groupby('age_group')['user_rating'].mean()\n",
        "axes[0, 0].bar(age_ratings.index, age_ratings.values, alpha=0.7)\n",
        "axes[0, 0].set_ylabel('Average Rating')\n",
        "axes[0, 0].set_title('Average Rating by Age Group')\n",
        "\n",
        "# Average rating by country\n",
        "country_ratings = full_data.groupby('country')['user_rating'].mean()\n",
        "axes[0, 1].bar(country_ratings.index, country_ratings.values, alpha=0.7)\n",
        "axes[0, 1].set_ylabel('Average Rating')\n",
        "axes[0, 1].set_title('Average Rating by Country')\n",
        "axes[0, 1].tick_params(axis='x', rotation=45)\n",
        "\n",
        "# Average rating by subscription type\n",
        "sub_ratings = full_data.groupby('subscription_type')['user_rating'].mean()\n",
        "axes[1, 0].bar(sub_ratings.index, sub_ratings.values, alpha=0.7)\n",
        "axes[1, 0].set_ylabel('Average Rating')\n",
        "axes[1, 0].set_title('Average Rating by Subscription Type')\n",
        "\n",
        "# Average rating by genre\n",
        "genre_ratings = full_data.groupby('genre_primary')['user_rating'].mean()\n",
        "axes[1, 1].bar(genre_ratings.index, genre_ratings.values, alpha=0.7)\n",
        "axes[1, 1].set_ylabel('Average Rating')\n",
        "axes[1, 1].set_title('Average Rating by Genre')\n",
        "axes[1, 1].tick_params(axis='x', rotation=45)\n",
        "\n",
        "plt.tight_layout()\n",
        "plt.show()\n"
      ]
    },
    {
      "cell_type": "markdown",
      "metadata": {
        "vscode": {
          "languageId": "raw"
        }
      },
      "source": [
        "## 6. Advanced Analytics & Insights\n"
      ]
    },
    {
      "cell_type": "code",
      "execution_count": null,
      "metadata": {},
      "outputs": [],
      "source": [
        "# Movie popularity and performance metrics\n",
        "movie_metrics_query = \"\"\"\n",
        "SELECT \n",
        "    m.title,\n",
        "    m.year,\n",
        "    m.genre_primary,\n",
        "    m.rating as imdb_rating,\n",
        "    m.budget_millions,\n",
        "    m.revenue_millions,\n",
        "    COUNT(r.rating) as num_ratings,\n",
        "    AVG(r.rating) as avg_user_rating,\n",
        "    STDDEV(r.rating) as rating_stddev\n",
        "FROM movies m\n",
        "LEFT JOIN ratings r ON m.id = r.movie_id\n",
        "GROUP BY m.id, m.title, m.year, m.genre_primary, m.rating, m.budget_millions, m.revenue_millions\n",
        "ORDER BY num_ratings DESC, avg_user_rating DESC\n",
        "\"\"\"\n",
        "\n",
        "movie_metrics = pd.read_sql(movie_metrics_query, engine)\n",
        "print(\"Movie Performance Metrics:\")\n",
        "movie_metrics.head(10)\n"
      ]
    },
    {
      "cell_type": "code",
      "execution_count": null,
      "metadata": {},
      "outputs": [],
      "source": [
        "# User engagement analysis\n",
        "user_engagement_query = \"\"\"\n",
        "SELECT \n",
        "    u.name,\n",
        "    u.age,\n",
        "    u.country,\n",
        "    u.subscription_type,\n",
        "    COUNT(r.rating) as num_ratings,\n",
        "    AVG(r.rating) as avg_rating_given,\n",
        "    STDDEV(r.rating) as rating_variance,\n",
        "    MIN(r.timestamp) as first_rating,\n",
        "    MAX(r.timestamp) as last_rating\n",
        "FROM users u\n",
        "LEFT JOIN ratings r ON u.id = r.user_id\n",
        "GROUP BY u.id, u.name, u.age, u.country, u.subscription_type\n",
        "ORDER BY num_ratings DESC\n",
        "\"\"\"\n",
        "\n",
        "user_engagement = pd.read_sql(user_engagement_query, engine)\n",
        "print(\"User Engagement Metrics:\")\n",
        "user_engagement.head()\n"
      ]
    },
    {
      "cell_type": "code",
      "execution_count": null,
      "metadata": {},
      "outputs": [],
      "source": [
        "# Genre preferences by user demographics\n",
        "genre_prefs_query = \"\"\"\n",
        "SELECT \n",
        "    u.subscription_type,\n",
        "    u.country,\n",
        "    m.genre_primary,\n",
        "    COUNT(*) as ratings_count,\n",
        "    AVG(r.rating) as avg_rating\n",
        "FROM ratings r\n",
        "JOIN users u ON r.user_id = u.id\n",
        "JOIN movies m ON r.movie_id = m.id\n",
        "GROUP BY u.subscription_type, u.country, m.genre_primary\n",
        "ORDER BY u.subscription_type, u.country, ratings_count DESC\n",
        "\"\"\"\n",
        "\n",
        "genre_prefs = pd.read_sql(genre_prefs_query, engine)\n",
        "print(\"Genre Preferences by Demographics:\")\n",
        "genre_prefs.head(10)\n"
      ]
    },
    {
      "cell_type": "code",
      "execution_count": null,
      "metadata": {},
      "outputs": [],
      "source": [
        "# Create a preference heatmap\n",
        "pivot_data = genre_prefs.pivot_table(\n",
        "    values='avg_rating', \n",
        "    index=['subscription_type', 'country'], \n",
        "    columns='genre_primary', \n",
        "    fill_value=0\n",
        ")\n",
        "\n",
        "plt.figure(figsize=(12, 8))\n",
        "sns.heatmap(pivot_data, annot=True, cmap='YlOrRd', fmt='.1f', cbar_kws={'label': 'Average Rating'})\n",
        "plt.title('Genre Preferences Heatmap (Average Rating by Demographics)')\n",
        "plt.ylabel('Subscription Type & Country')\n",
        "plt.xlabel('Genre')\n",
        "plt.tight_layout()\n",
        "plt.show()\n"
      ]
    },
    {
      "cell_type": "markdown",
      "metadata": {
        "vscode": {
          "languageId": "raw"
        }
      },
      "source": [
        "## 7. Business Insights & Recommendations\n"
      ]
    },
    {
      "cell_type": "code",
      "execution_count": null,
      "metadata": {},
      "outputs": [],
      "source": [
        "# Key business metrics and insights\n",
        "print(\"=== MOVIEDB DATABASE INSIGHTS ===\")\n",
        "print()\n",
        "\n",
        "print(\"📊 DATABASE OVERVIEW:\")\n",
        "print(f\"• {len(movies_df)} movies in catalog\")\n",
        "print(f\"• {len(users_df)} registered users\")\n",
        "print(f\"• {len(ratings_df)} total ratings submitted\")\n",
        "print(f\"• {ratings_df['movie_id'].nunique()}/{len(movies_df)} movies have been rated\")\n",
        "print()\n",
        "\n",
        "print(\"🎬 MOVIE INSIGHTS:\")\n",
        "print(f\"• Most popular genre: {movies_df['genre_primary'].mode()[0]} ({movies_df['genre_primary'].value_counts().iloc[0]} movies)\")\n",
        "print(f\"• Average movie rating: {movies_df['rating'].mean():.1f}/10\")\n",
        "print(f\"• Most profitable movie: {movies_df.loc[movies_df['profit_millions'].idxmax(), 'title']} (${movies_df['profit_millions'].max():.0f}M profit)\")\n",
        "print(f\"• Best ROI: {movies_df.loc[movies_df['roi'].idxmax(), 'title']} ({movies_df['roi'].max():.0f}% ROI)\")\n",
        "print()\n",
        "\n",
        "print(\"👥 USER INSIGHTS:\")\n",
        "print(f\"• Average user age: {users_df['age'].mean():.1f} years\")\n",
        "print(f\"• Premium subscribers: {(users_df['subscription_type'] == 'premium').mean()*100:.0f}%\")\n",
        "print(f\"• Most active country: {users_df['country'].mode()[0]}\")\n",
        "print(f\"• Average ratings per user: {ratings_df['user_id'].value_counts().mean():.1f}\")\n",
        "print()\n",
        "\n",
        "print(\"⭐ RATING INSIGHTS:\")\n",
        "print(f\"• Average user rating: {ratings_df['rating'].mean():.1f}/10\")\n",
        "print(f\"• Most common rating: {ratings_df['rating'].mode()[0]}/10\")\n",
        "print(f\"• User vs IMDB rating correlation: {full_data['imdb_rating'].corr(full_data['user_rating']):.2f}\")\n",
        "print(f\"• Users tend to rate {abs(full_data['rating_diff'].mean()):.1f} points {'higher' if full_data['rating_diff'].mean() > 0 else 'lower'} than IMDB\")\n",
        "print()\n",
        "\n",
        "print(\"💡 RECOMMENDATIONS:\")\n",
        "print(\"• Focus on Action movies - highest representation and good ratings\")\n",
        "print(\"• Premium users show higher engagement - consider targeted content\")\n",
        "print(\"• Users rate slightly different from IMDB - consider user-based recommendations\")\n",
        "print(\"• Some movies lack user ratings - implement rating incentives\")\n"
      ]
    },
    {
      "cell_type": "code",
      "execution_count": null,
      "metadata": {},
      "outputs": [],
      "source": [
        "# Export key findings to CSV for further analysis\n",
        "print(\"Exporting analysis results...\")\n",
        "\n",
        "# Export enhanced movie data\n",
        "movies_enhanced = movies_df.copy()\n",
        "movies_enhanced.to_csv('movies_analysis.csv', index=False)\n",
        "\n",
        "# Export user engagement metrics\n",
        "user_engagement.to_csv('user_engagement_analysis.csv', index=False)\n",
        "\n",
        "# Export movie performance metrics\n",
        "movie_metrics.to_csv('movie_performance_analysis.csv', index=False)\n",
        "\n",
        "print(\"Analysis complete! Key files exported:\")\n",
        "print(\"• movies_analysis.csv - Enhanced movie data with calculated metrics\")\n",
        "print(\"• user_engagement_analysis.csv - User engagement and behavior metrics\")\n",
        "print(\"• movie_performance_analysis.csv - Movie popularity and rating statistics\")\n"
      ]
    }
  ],
  "metadata": {
    "kernelspec": {
      "display_name": "base",
      "language": "python",
      "name": "python3"
    },
    "language_info": {
      "codemirror_mode": {
        "name": "ipython",
        "version": 3
      },
      "file_extension": ".py",
      "mimetype": "text/x-python",
      "name": "python",
      "nbconvert_exporter": "python",
      "pygments_lexer": "ipython3",
      "version": "3.13.5"
    }
  },
  "nbformat": 4,
  "nbformat_minor": 2
}
